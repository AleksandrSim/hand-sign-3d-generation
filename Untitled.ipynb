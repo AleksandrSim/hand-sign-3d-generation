{
 "cells": [
  {
   "cell_type": "code",
   "execution_count": 1,
   "id": "8c4f75c0-ef43-406c-b40a-a2bbcbecd124",
   "metadata": {},
   "outputs": [],
   "source": [
    "import json"
   ]
  },
  {
   "cell_type": "code",
   "execution_count": 2,
   "id": "385d973d-ca9b-4f72-a1b3-9ebb91921686",
   "metadata": {},
   "outputs": [],
   "source": [
    "import numpy as np"
   ]
  },
  {
   "cell_type": "code",
   "execution_count": null,
   "id": "af516a22-8a03-48c7-a44c-517c4058418a",
   "metadata": {},
   "outputs": [],
   "source": [
    "path = '"
   ]
  }
 ],
 "metadata": {
  "kernelspec": {
   "display_name": "Python 3 (ipykernel)",
   "language": "python",
   "name": "python3"
  },
  "language_info": {
   "codemirror_mode": {
    "name": "ipython",
    "version": 3
   },
   "file_extension": ".py",
   "mimetype": "text/x-python",
   "name": "python",
   "nbconvert_exporter": "python",
   "pygments_lexer": "ipython3",
   "version": "3.10.10"
  }
 },
 "nbformat": 4,
 "nbformat_minor": 5
}
