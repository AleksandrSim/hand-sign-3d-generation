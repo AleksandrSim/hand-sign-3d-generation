{
 "cells": [
  {
   "cell_type": "code",
   "execution_count": 30,
   "id": "e14fe69f-0438-455b-9f00-ea9769a9016c",
   "metadata": {},
   "outputs": [],
   "source": [
    "path = '/Users/aleksandrsimonyan/Desktop/hand_sign_generation_project/npz/fbx_1.fbx.npz'"
   ]
  },
  {
   "cell_type": "code",
   "execution_count": 31,
   "id": "26a06f3a-58a2-40aa-92e6-5fd8bc1f5381",
   "metadata": {},
   "outputs": [],
   "source": [
    "import numpy as np"
   ]
  },
  {
   "cell_type": "code",
   "execution_count": 32,
   "id": "2f4dde87-58d1-40d3-8a48-0ce0848006a9",
   "metadata": {},
   "outputs": [],
   "source": [
    "data = np.load(path)"
   ]
  },
  {
   "cell_type": "code",
   "execution_count": 33,
   "id": "68a5b6f9-d2f6-4065-94a6-5ba46417c986",
   "metadata": {},
   "outputs": [
    {
     "data": {
      "text/plain": [
       "(19, 3, 25629)"
      ]
     },
     "execution_count": 33,
     "metadata": {},
     "output_type": "execute_result"
    }
   ],
   "source": [
    "data['data'].shape"
   ]
  },
  {
   "cell_type": "code",
   "execution_count": 34,
   "id": "1ce2f9e9-b222-41b8-bbe0-a38a30f830a1",
   "metadata": {},
   "outputs": [
    {
     "data": {
      "text/plain": [
       "array([ 6.75068998, 10.32530499, 12.184865  ,  7.42829561,  9.51465797,\n",
       "       12.87392139, 14.49632931,  7.38315535,  9.29731464, 13.56171989,\n",
       "       15.64154053,  7.24883366,  8.86376476, 11.56236935, 13.8077774 ,\n",
       "        7.07483912,  8.49371815, 10.36356258, 11.74108124])"
      ]
     },
     "execution_count": 34,
     "metadata": {},
     "output_type": "execute_result"
    }
   ],
   "source": [
    "data['data'][:,0,3232]"
   ]
  },
  {
   "cell_type": "code",
   "execution_count": null,
   "id": "c7956a9f-1e14-430c-9313-4e651e8eaa4a",
   "metadata": {},
   "outputs": [],
   "source": []
  }
 ],
 "metadata": {
  "kernelspec": {
   "display_name": "Python 3 (ipykernel)",
   "language": "python",
   "name": "python3"
  },
  "language_info": {
   "codemirror_mode": {
    "name": "ipython",
    "version": 3
   },
   "file_extension": ".py",
   "mimetype": "text/x-python",
   "name": "python",
   "nbconvert_exporter": "python",
   "pygments_lexer": "ipython3",
   "version": "3.10.10"
  }
 },
 "nbformat": 4,
 "nbformat_minor": 5
}
